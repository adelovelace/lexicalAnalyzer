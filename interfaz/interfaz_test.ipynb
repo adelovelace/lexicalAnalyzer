{
 "cells": [
  {
   "cell_type": "code",
   "execution_count": 8,
   "metadata": {
    "collapsed": true
   },
   "outputs": [],
   "source": [
    "import tkinter as tk\n",
    "from tkinter import ttk"
   ]
  },
  {
   "cell_type": "code",
   "execution_count": 45,
   "outputs": [],
   "source": [
    "window = tk.Tk()\n",
    "window.title(\"Clojure Analyzer\")\n",
    "window.config(width=1000, height=700)\n",
    "\n",
    "\n",
    "frame1 = tk.Frame(master=window, width=200, height=100, bg=\"red\")\n",
    "frame1.pack(fill=tk.BOTH, side=tk.LEFT, expand=True)\n",
    "\n",
    "frame2 = tk.Frame(master=window, width=100, bg=\"yellow\")\n",
    "frame2.pack(fill=tk.BOTH, side=tk.LEFT, expand=True)\n",
    "\n",
    "frame3 = tk.Frame(master=window, width=50, bg=\"blue\")\n",
    "frame3.pack(fill=tk.BOTH, side=tk.LEFT, expand=True)\n",
    "\n",
    "# etiqueta_input = ttk.Label(text=\"Code: \")\n",
    "# etiqueta_input.place(x=20, y=20)\n",
    "#\n",
    "#\n",
    "# text_box = tk.Text()\n",
    "# text_box.place(x=10, y=40)\n",
    "\n",
    "\n",
    "\n",
    "\n",
    "window.mainloop()"
   ],
   "metadata": {
    "collapsed": false
   }
  },
  {
   "cell_type": "code",
   "execution_count": null,
   "outputs": [],
   "source": [],
   "metadata": {
    "collapsed": false
   }
  }
 ],
 "metadata": {
  "kernelspec": {
   "display_name": "Python 3",
   "language": "python",
   "name": "python3"
  },
  "language_info": {
   "codemirror_mode": {
    "name": "ipython",
    "version": 2
   },
   "file_extension": ".py",
   "mimetype": "text/x-python",
   "name": "python",
   "nbconvert_exporter": "python",
   "pygments_lexer": "ipython2",
   "version": "2.7.6"
  }
 },
 "nbformat": 4,
 "nbformat_minor": 0
}
